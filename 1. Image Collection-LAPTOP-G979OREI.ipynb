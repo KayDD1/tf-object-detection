{
 "cells": [
  {
   "cell_type": "markdown",
   "metadata": {},
   "source": [
    "# 1. Import Dependencies"
   ]
  },
  {
   "cell_type": "code",
   "execution_count": 1,
   "metadata": {},
   "outputs": [
    {
     "name": "stdout",
     "output_type": "stream",
     "text": [
      "Collecting opencv-python\n",
      "  Using cached opencv_python-4.6.0.66-cp36-abi3-win_amd64.whl (35.6 MB)\n",
      "Collecting numpy>=1.17.3\n",
      "  Using cached numpy-1.23.4-cp39-cp39-win_amd64.whl (14.7 MB)\n",
      "Installing collected packages: numpy, opencv-python\n",
      "Successfully installed numpy-1.23.4 opencv-python-4.6.0.66\n"
     ]
    }
   ],
   "source": [
    "!pip install opencv-python"
   ]
  },
  {
   "cell_type": "code",
   "execution_count": 1,
   "metadata": {},
   "outputs": [],
   "source": [
    "# Import opencv\n",
    "import cv2 \n",
    "\n",
    "# Import uuid\n",
    "import uuid\n",
    "\n",
    "# Import Operating System\n",
    "import os\n",
    "\n",
    "# Import time\n",
    "import time"
   ]
  },
  {
   "cell_type": "markdown",
   "metadata": {},
   "source": [
    "# 2. Define Images to Collect"
   ]
  },
  {
   "cell_type": "code",
   "execution_count": 2,
   "metadata": {},
   "outputs": [],
   "source": [
    "labels = ['thumbsup', 'livelong']\n",
    "number_imgs = 6"
   ]
  },
  {
   "cell_type": "code",
   "execution_count": 3,
   "metadata": {},
   "outputs": [
    {
     "data": {
      "text/plain": [
       "['thumbsup', 'livelong']"
      ]
     },
     "execution_count": 3,
     "metadata": {},
     "output_type": "execute_result"
    }
   ],
   "source": [
    "labels"
   ]
  },
  {
   "cell_type": "markdown",
   "metadata": {},
   "source": [
    "# 3. Setup Folders "
   ]
  },
  {
   "cell_type": "code",
   "execution_count": 4,
   "metadata": {},
   "outputs": [],
   "source": [
    "IMAGES_PATH = os.path.join('Tensorflow', 'workspace', 'images', 'collectedimages')"
   ]
  },
  {
   "cell_type": "code",
   "execution_count": 5,
   "metadata": {},
   "outputs": [],
   "source": [
    "if not os.path.exists(IMAGES_PATH):\n",
    "    if os.name == 'posix':\n",
    "        !mkdir -p {IMAGES_PATH}\n",
    "    if os.name == 'nt':\n",
    "         !mkdir {IMAGES_PATH}\n",
    "for label in labels:\n",
    "    path = os.path.join(IMAGES_PATH, label)\n",
    "    if not os.path.exists(path):\n",
    "        !mkdir {path}"
   ]
  },
  {
   "cell_type": "markdown",
   "metadata": {},
   "source": [
    "# 4. Capture Images"
   ]
  },
  {
   "cell_type": "code",
   "execution_count": 7,
   "metadata": {},
   "outputs": [
    {
     "name": "stdout",
     "output_type": "stream",
     "text": [
      "Collecting images for thumbsup\n",
      "Collecting image 0\n",
      "Collecting image 1\n",
      "Collecting image 2\n",
      "Collecting image 3\n",
      "Collecting image 4\n",
      "Collecting image 5\n",
      "Collecting images for livelong\n",
      "Collecting image 0\n",
      "Collecting image 1\n",
      "Collecting image 2\n",
      "Collecting image 3\n",
      "Collecting image 4\n",
      "Collecting image 5\n"
     ]
    }
   ],
   "source": [
    "for label in labels:\n",
    "    cap = cv2.VideoCapture(0)\n",
    "    print('Collecting images for {}'.format(label))\n",
    "    time.sleep(5)\n",
    "    for imgnum in range(number_imgs):\n",
    "        print('Collecting image {}'.format(imgnum))\n",
    "        ret, frame = cap.read()\n",
    "        imgname = os.path.join(IMAGES_PATH,label,label+'.'+'{}.jpg'.format(str(uuid.uuid1())))\n",
    "        cv2.imwrite(imgname, frame)\n",
    "        cv2.imshow('frame', frame)\n",
    "        time.sleep(2)\n",
    "\n",
    "        if cv2.waitKey(1) & 0xFF == ord('q'):\n",
    "            break\n",
    "cap.release()\n",
    "cv2.destroyAllWindows()"
   ]
  },
  {
   "cell_type": "markdown",
   "metadata": {},
   "source": [
    "# 5. Image Labelling"
   ]
  },
  {
   "cell_type": "code",
   "execution_count": 7,
   "metadata": {},
   "outputs": [
    {
     "name": "stdout",
     "output_type": "stream",
     "text": [
      "Collecting pyqt5\n",
      "  Using cached PyQt5-5.15.7-cp37-abi3-win_amd64.whl (6.8 MB)\n",
      "Collecting lxml\n",
      "  Using cached lxml-4.9.1-cp39-cp39-win_amd64.whl (3.6 MB)\n",
      "Collecting PyQt5-sip<13,>=12.11\n",
      "  Using cached PyQt5_sip-12.11.0-cp39-cp39-win_amd64.whl (78 kB)\n",
      "Collecting PyQt5-Qt5>=5.15.0\n",
      "  Using cached PyQt5_Qt5-5.15.2-py3-none-win_amd64.whl (50.1 MB)\n",
      "Installing collected packages: PyQt5-Qt5, PyQt5-sip, lxml, pyqt5\n",
      "Successfully installed PyQt5-Qt5-5.15.2 PyQt5-sip-12.11.0 lxml-4.9.1 pyqt5-5.15.7\n"
     ]
    }
   ],
   "source": [
    "!pip install --upgrade pyqt5 lxml"
   ]
  },
  {
   "cell_type": "code",
   "execution_count": 8,
   "metadata": {},
   "outputs": [],
   "source": [
    "LABELIMG_PATH = os.path.join('Tensorflow', 'labelimg')"
   ]
  },
  {
   "cell_type": "code",
   "execution_count": 9,
   "metadata": {},
   "outputs": [
    {
     "name": "stderr",
     "output_type": "stream",
     "text": [
      "Cloning into 'Tensorflow\\labelimg'...\n",
      "Updating files:  41% (49/117)\n",
      "Updating files:  42% (50/117)\n",
      "Updating files:  43% (51/117)\n",
      "Updating files:  44% (52/117)\n",
      "Updating files:  45% (53/117)\n",
      "Updating files:  46% (54/117)\n",
      "Updating files:  47% (55/117)\n",
      "Updating files:  48% (57/117)\n",
      "Updating files:  49% (58/117)\n",
      "Updating files:  50% (59/117)\n",
      "Updating files:  51% (60/117)\n",
      "Updating files:  52% (61/117)\n",
      "Updating files:  53% (63/117)\n",
      "Updating files:  54% (64/117)\n",
      "Updating files:  55% (65/117)\n",
      "Updating files:  56% (66/117)\n",
      "Updating files:  57% (67/117)\n",
      "Updating files:  58% (68/117)\n",
      "Updating files:  59% (70/117)\n",
      "Updating files:  60% (71/117)\n",
      "Updating files:  61% (72/117)\n",
      "Updating files:  62% (73/117)\n",
      "Updating files:  63% (74/117)\n",
      "Updating files:  64% (75/117)\n",
      "Updating files:  65% (77/117)\n",
      "Updating files:  66% (78/117)\n",
      "Updating files:  67% (79/117)\n",
      "Updating files:  68% (80/117)\n",
      "Updating files:  69% (81/117)\n",
      "Updating files:  70% (82/117)\n",
      "Updating files:  71% (84/117)\n",
      "Updating files:  72% (85/117)\n",
      "Updating files:  73% (86/117)\n",
      "Updating files:  74% (87/117)\n",
      "Updating files:  75% (88/117)\n",
      "Updating files:  76% (89/117)\n",
      "Updating files:  77% (91/117)\n",
      "Updating files:  78% (92/117)\n",
      "Updating files:  79% (93/117)\n",
      "Updating files:  80% (94/117)\n",
      "Updating files:  81% (95/117)\n",
      "Updating files:  82% (96/117)\n",
      "Updating files:  83% (98/117)\n",
      "Updating files:  84% (99/117)\n",
      "Updating files:  85% (100/117)\n",
      "Updating files:  86% (101/117)\n",
      "Updating files:  87% (102/117)\n",
      "Updating files:  88% (103/117)\n",
      "Updating files:  89% (105/117)\n",
      "Updating files:  90% (106/117)\n",
      "Updating files:  91% (107/117)\n",
      "Updating files:  92% (108/117)\n",
      "Updating files:  93% (109/117)\n",
      "Updating files:  94% (110/117)\n",
      "Updating files:  95% (112/117)\n",
      "Updating files:  96% (113/117)\n",
      "Updating files:  97% (114/117)\n",
      "Updating files:  98% (115/117)\n",
      "Updating files:  99% (116/117)\n",
      "Updating files: 100% (117/117)\n",
      "Updating files: 100% (117/117), done.\n"
     ]
    }
   ],
   "source": [
    "if not os.path.exists(LABELIMG_PATH):\n",
    "    !mkdir {LABELIMG_PATH}\n",
    "    !git clone https://github.com/tzutalin/labelImg {LABELIMG_PATH}"
   ]
  },
  {
   "cell_type": "code",
   "execution_count": 10,
   "metadata": {},
   "outputs": [],
   "source": [
    "if os.name == 'posix':\n",
    "    !make qt5py3\n",
    "if os.name =='nt':\n",
    "    !cd {LABELIMG_PATH} && pyrcc5 -o libs/resources.py resources.qrc"
   ]
  },
  {
   "cell_type": "code",
   "execution_count": 9,
   "metadata": {},
   "outputs": [
    {
     "name": "stdout",
     "output_type": "stream",
     "text": [
      "Image:C:\\Users\\CGX\\OneDrive - Teesside University\\Desktop\\Object_Detection\\TFODCourse\\Tensorflow\\workspace\\images\\collectedimages\\livelong\\livelong.2d29f9ab-5f47-11ed-8256-9061ae30a4d4.jpg -> Annotation:C:/Users/CGX/OneDrive - Teesside University/Desktop/Object_Detection/TFODCourse/Tensorflow/workspace/images/collectedimages/livelong\\livelong.2d29f9ab-5f47-11ed-8256-9061ae30a4d4.xml\n",
      "Image:C:\\Users\\CGX\\OneDrive - Teesside University\\Desktop\\Object_Detection\\TFODCourse\\Tensorflow\\workspace\\images\\collectedimages\\livelong\\livelong.2bd6d6b4-5f47-11ed-9568-9061ae30a4d4.jpg -> Annotation:C:/Users/CGX/OneDrive - Teesside University/Desktop/Object_Detection/TFODCourse/Tensorflow/workspace/images/collectedimages/livelong\\livelong.2bd6d6b4-5f47-11ed-9568-9061ae30a4d4.xml\n",
      "Image:C:\\Users\\CGX\\OneDrive - Teesside University\\Desktop\\Object_Detection\\TFODCourse\\Tensorflow\\workspace\\images\\collectedimages\\livelong\\livelong.2e86176a-5f47-11ed-8f83-9061ae30a4d4.jpg -> Annotation:C:/Users/CGX/OneDrive - Teesside University/Desktop/Object_Detection/TFODCourse/Tensorflow/workspace/images/collectedimages/livelong\\livelong.2e86176a-5f47-11ed-8f83-9061ae30a4d4.xml\n",
      "Image:C:\\Users\\CGX\\OneDrive - Teesside University\\Desktop\\Object_Detection\\TFODCourse\\Tensorflow\\workspace\\images\\collectedimages\\livelong\\livelong.5d60c5e1-5f47-11ed-9bf6-9061ae30a4d4.jpg -> Annotation:C:/Users/CGX/OneDrive - Teesside University/Desktop/Object_Detection/TFODCourse/Tensorflow/workspace/images/collectedimages/livelong\\livelong.5d60c5e1-5f47-11ed-9bf6-9061ae30a4d4.xml\n",
      "Image:C:\\Users\\CGX\\OneDrive - Teesside University\\Desktop\\Object_Detection\\TFODCourse\\Tensorflow\\workspace\\images\\collectedimages\\livelong\\livelong.5e9642a8-5f47-11ed-9531-9061ae30a4d4.jpg -> Annotation:C:/Users/CGX/OneDrive - Teesside University/Desktop/Object_Detection/TFODCourse/Tensorflow/workspace/images/collectedimages/livelong\\livelong.5e9642a8-5f47-11ed-9531-9061ae30a4d4.xml\n",
      "Image:C:\\Users\\CGX\\OneDrive - Teesside University\\Desktop\\Object_Detection\\TFODCourse\\Tensorflow\\workspace\\images\\collectedimages\\livelong\\livelong.5fcf1fe0-5f47-11ed-a05f-9061ae30a4d4.jpg -> Annotation:C:/Users/CGX/OneDrive - Teesside University/Desktop/Object_Detection/TFODCourse/Tensorflow/workspace/images/collectedimages/livelong\\livelong.5fcf1fe0-5f47-11ed-a05f-9061ae30a4d4.xml\n",
      "Image:C:\\Users\\CGX\\OneDrive - Teesside University\\Desktop\\Object_Detection\\TFODCourse\\Tensorflow\\workspace\\images\\collectedimages\\livelong\\livelong.5fcf1fe0-5f47-11ed-a05f-9061ae30a4d4.jpg -> Annotation:C:/Users/CGX/OneDrive - Teesside University/Desktop/Object_Detection/TFODCourse/Tensorflow/workspace/images/collectedimages/livelong\\livelong.5fcf1fe0-5f47-11ed-a05f-9061ae30a4d4.xml\n",
      "Image:C:\\Users\\CGX\\OneDrive - Teesside University\\Desktop\\Object_Detection\\TFODCourse\\Tensorflow\\workspace\\images\\collectedimages\\livelong\\livelong.636fadb5-5f47-11ed-8675-9061ae30a4d4.jpg -> Annotation:C:/Users/CGX/OneDrive - Teesside University/Desktop/Object_Detection/TFODCourse/Tensorflow/workspace/images/collectedimages/livelong\\livelong.636fadb5-5f47-11ed-8675-9061ae30a4d4.xml\n",
      "Image:C:\\Users\\CGX\\OneDrive - Teesside University\\Desktop\\Object_Detection\\TFODCourse\\Tensorflow\\workspace\\images\\collectedimages\\livelong\\livelong.636fadb5-5f47-11ed-8675-9061ae30a4d4.jpg -> Annotation:C:/Users/CGX/OneDrive - Teesside University/Desktop/Object_Detection/TFODCourse/Tensorflow/workspace/images/collectedimages/livelong\\livelong.636fadb5-5f47-11ed-8675-9061ae30a4d4.xml\n",
      "Image:C:\\Users\\CGX\\OneDrive - Teesside University\\Desktop\\Object_Detection\\TFODCourse\\Tensorflow\\workspace\\images\\collectedimages\\livelong\\livelong.6239d512-5f47-11ed-a5a9-9061ae30a4d4.jpg -> Annotation:C:/Users/CGX/OneDrive - Teesside University/Desktop/Object_Detection/TFODCourse/Tensorflow/workspace/images/collectedimages/livelong\\livelong.6239d512-5f47-11ed-a5a9-9061ae30a4d4.xml\n",
      "Image:C:\\Users\\CGX\\OneDrive - Teesside University\\Desktop\\Object_Detection\\TFODCourse\\Tensorflow\\workspace\\images\\collectedimages\\livelong\\livelong.32296e7f-5f47-11ed-9e66-9061ae30a4d4.jpg -> Annotation:C:/Users/CGX/OneDrive - Teesside University/Desktop/Object_Detection/TFODCourse/Tensorflow/workspace/images/collectedimages/livelong\\livelong.32296e7f-5f47-11ed-9e66-9061ae30a4d4.xml\n",
      "Image:C:\\Users\\CGX\\OneDrive - Teesside University\\Desktop\\Object_Detection\\TFODCourse\\Tensorflow\\workspace\\images\\collectedimages\\livelong\\livelong.610441c5-5f47-11ed-a468-9061ae30a4d4.jpg -> Annotation:C:/Users/CGX/OneDrive - Teesside University/Desktop/Object_Detection/TFODCourse/Tensorflow/workspace/images/collectedimages/livelong\\livelong.610441c5-5f47-11ed-a468-9061ae30a4d4.xml\n",
      "Image:C:\\Users\\CGX\\OneDrive - Teesside University\\Desktop\\Object_Detection\\TFODCourse\\Tensorflow\\workspace\\images\\collectedimages\\thumbsup\\thumbsup.1da36fc4-5f47-11ed-a547-9061ae30a4d4.jpg -> Annotation:C:/Users/CGX/OneDrive - Teesside University/Desktop/Object_Detection/TFODCourse/Tensorflow/workspace/images/collectedimages/thumbsup\\thumbsup.1da36fc4-5f47-11ed-a547-9061ae30a4d4.xml\n",
      "Image:C:\\Users\\CGX\\OneDrive - Teesside University\\Desktop\\Object_Detection\\TFODCourse\\Tensorflow\\workspace\\images\\collectedimages\\thumbsup\\thumbsup.1ee403b0-5f47-11ed-913c-9061ae30a4d4.jpg -> Annotation:C:/Users/CGX/OneDrive - Teesside University/Desktop/Object_Detection/TFODCourse/Tensorflow/workspace/images/collectedimages/thumbsup\\thumbsup.1ee403b0-5f47-11ed-913c-9061ae30a4d4.xml\n",
      "Image:C:\\Users\\CGX\\OneDrive - Teesside University\\Desktop\\Object_Detection\\TFODCourse\\Tensorflow\\workspace\\images\\collectedimages\\thumbsup\\thumbsup.22c18e0b-5f47-11ed-bfbb-9061ae30a4d4.jpg -> Annotation:C:/Users/CGX/OneDrive - Teesside University/Desktop/Object_Detection/TFODCourse/Tensorflow/workspace/images/collectedimages/thumbsup\\thumbsup.22c18e0b-5f47-11ed-bfbb-9061ae30a4d4.xml\n",
      "Image:C:\\Users\\CGX\\OneDrive - Teesside University\\Desktop\\Object_Detection\\TFODCourse\\Tensorflow\\workspace\\images\\collectedimages\\thumbsup\\thumbsup.55c72fdb-5f47-11ed-b370-9061ae30a4d4.jpg -> Annotation:C:/Users/CGX/OneDrive - Teesside University/Desktop/Object_Detection/TFODCourse/Tensorflow/workspace/images/collectedimages/thumbsup\\thumbsup.55c72fdb-5f47-11ed-b370-9061ae30a4d4.xml\n",
      "Image:C:\\Users\\CGX\\OneDrive - Teesside University\\Desktop\\Object_Detection\\TFODCourse\\Tensorflow\\workspace\\images\\collectedimages\\thumbsup\\thumbsup.55c72fdb-5f47-11ed-b370-9061ae30a4d4.jpg -> Annotation:C:/Users/CGX/OneDrive - Teesside University/Desktop/Object_Detection/TFODCourse/Tensorflow/workspace/images/collectedimages/thumbsup\\thumbsup.55c72fdb-5f47-11ed-b370-9061ae30a4d4.xml\n",
      "Image:C:\\Users\\CGX\\OneDrive - Teesside University\\Desktop\\Object_Detection\\TFODCourse\\Tensorflow\\workspace\\images\\collectedimages\\thumbsup\\thumbsup.218bbe5b-5f47-11ed-bec1-9061ae30a4d4.jpg -> Annotation:C:/Users/CGX/OneDrive - Teesside University/Desktop/Object_Detection/TFODCourse/Tensorflow/workspace/images/collectedimages/thumbsup\\thumbsup.218bbe5b-5f47-11ed-bec1-9061ae30a4d4.xml\n",
      "Image:C:\\Users\\CGX\\OneDrive - Teesside University\\Desktop\\Object_Detection\\TFODCourse\\Tensorflow\\workspace\\images\\collectedimages\\thumbsup\\thumbsup.535d1fce-5f47-11ed-a774-9061ae30a4d4.jpg -> Annotation:C:/Users/CGX/OneDrive - Teesside University/Desktop/Object_Detection/TFODCourse/Tensorflow/workspace/images/collectedimages/thumbsup\\thumbsup.535d1fce-5f47-11ed-a774-9061ae30a4d4.xml\n",
      "Image:C:\\Users\\CGX\\OneDrive - Teesside University\\Desktop\\Object_Detection\\TFODCourse\\Tensorflow\\workspace\\images\\collectedimages\\thumbsup\\thumbsup.5229ed50-5f47-11ed-8631-9061ae30a4d4.jpg -> Annotation:C:/Users/CGX/OneDrive - Teesside University/Desktop/Object_Detection/TFODCourse/Tensorflow/workspace/images/collectedimages/thumbsup\\thumbsup.5229ed50-5f47-11ed-8631-9061ae30a4d4.xml\n",
      "Image:C:\\Users\\CGX\\OneDrive - Teesside University\\Desktop\\Object_Detection\\TFODCourse\\Tensorflow\\workspace\\images\\collectedimages\\thumbsup\\thumbsup.20198e3d-5f47-11ed-a544-9061ae30a4d4.jpg -> Annotation:C:/Users/CGX/OneDrive - Teesside University/Desktop/Object_Detection/TFODCourse/Tensorflow/workspace/images/collectedimages/thumbsup\\thumbsup.20198e3d-5f47-11ed-a544-9061ae30a4d4.xml\n",
      "Image:C:\\Users\\CGX\\OneDrive - Teesside University\\Desktop\\Object_Detection\\TFODCourse\\Tensorflow\\workspace\\images\\collectedimages\\thumbsup\\thumbsup.54936f89-5f47-11ed-9143-9061ae30a4d4.jpg -> Annotation:C:/Users/CGX/OneDrive - Teesside University/Desktop/Object_Detection/TFODCourse/Tensorflow/workspace/images/collectedimages/thumbsup\\thumbsup.54936f89-5f47-11ed-9143-9061ae30a4d4.xml\n"
     ]
    }
   ],
   "source": [
    "!cd {LABELIMG_PATH} && python labelImg.py"
   ]
  },
  {
   "cell_type": "markdown",
   "metadata": {},
   "source": [
    "# 6. Move them into a Training and Testing Partition"
   ]
  },
  {
   "cell_type": "markdown",
   "metadata": {},
   "source": [
    "# OPTIONAL - 7. Compress them for Colab Training"
   ]
  },
  {
   "cell_type": "code",
   "execution_count": 10,
   "metadata": {},
   "outputs": [],
   "source": [
    "TRAIN_PATH = os.path.join('Tensorflow', 'workspace', 'images', 'train')\n",
    "TEST_PATH = os.path.join('Tensorflow', 'workspace', 'images', 'test')\n",
    "ARCHIVE_PATH = os.path.join('Tensorflow', 'workspace', 'images', 'archive.tar.gz')"
   ]
  },
  {
   "cell_type": "code",
   "execution_count": 11,
   "metadata": {},
   "outputs": [],
   "source": [
    "!tar -czf {ARCHIVE_PATH} {TRAIN_PATH} {TEST_PATH}"
   ]
  },
  {
   "cell_type": "code",
   "execution_count": null,
   "metadata": {},
   "outputs": [],
   "source": []
  }
 ],
 "metadata": {
  "kernelspec": {
   "display_name": "tfod",
   "language": "python",
   "name": "tfod"
  },
  "language_info": {
   "codemirror_mode": {
    "name": "ipython",
    "version": 3
   },
   "file_extension": ".py",
   "mimetype": "text/x-python",
   "name": "python",
   "nbconvert_exporter": "python",
   "pygments_lexer": "ipython3",
   "version": "3.9.13"
  }
 },
 "nbformat": 4,
 "nbformat_minor": 4
}
